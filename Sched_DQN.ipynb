{
  "nbformat": 4,
  "nbformat_minor": 0,
  "metadata": {
    "colab": {
      "provenance": [],
      "collapsed_sections": [
        "H7dT0IaKmAKl",
        "g_Qet16am85Q",
        "lspT63d7nYB4"
      ],
      "authorship_tag": "ABX9TyOYE0ryu/8/8xVcN7CEkoRE",
      "include_colab_link": true
    },
    "kernelspec": {
      "name": "python3",
      "display_name": "Python 3"
    },
    "language_info": {
      "name": "python"
    }
  },
  "cells": [
    {
      "cell_type": "markdown",
      "metadata": {
        "id": "view-in-github",
        "colab_type": "text"
      },
      "source": [
        "<a href=\"https://colab.research.google.com/github/adelsakkir/Parallel-Scheduling-MILP/blob/main/Sched_DQN.ipynb\" target=\"_parent\"><img src=\"https://colab.research.google.com/assets/colab-badge.svg\" alt=\"Open In Colab\"/></a>"
      ]
    },
    {
      "cell_type": "markdown",
      "source": [
        "# Imports and Defining Classes"
      ],
      "metadata": {
        "id": "H7dT0IaKmAKl"
      }
    },
    {
      "cell_type": "code",
      "execution_count": 2,
      "metadata": {
        "id": "Loi_-rsmlqFm"
      },
      "outputs": [],
      "source": [
        "# Step 1: Build the dataset\n",
        "import random\n",
        "import copy\n",
        "import pandas as pd\n",
        "import numpy as np\n",
        "# import gymnasium as gym\n",
        "# from gymnasium import spaces\n",
        "from math import comb\n",
        "import itertools\n",
        "#from problem_classes import Job, Machine, SchedulingEnvironment # , State"
      ]
    },
    {
      "cell_type": "code",
      "source": [
        "import random\n",
        "import copy\n",
        "import numpy as np\n",
        "#import gymnasium as gym\n",
        "#from gymnasium import spaces\n",
        "\n",
        "\n",
        "# Family approach\n",
        "class Job:\n",
        "    def __init__(self, id, priority, family):\n",
        "        self.id = id\n",
        "        self.priority = priority\n",
        "        #self.due_date = due_date\n",
        "        self.family = family\n",
        "        self.allocation_status = 0\n",
        "        self.machine_allocated = 0\n",
        "        self.start_time = None\n",
        "        self.end_time = None\n",
        "\n",
        "class Machine:\n",
        "    def __init__(self, id, family_dict):\n",
        "        self.id = id\n",
        "        self.families = list(family_dict.keys())\n",
        "        self.processing_times = family_dict\n",
        "        self.schedule = []\n",
        "        self.end_time = 0\n",
        "        self.busyness = {family: 0 for family in self.families} # Keep track of how many jobs of each family are allocated to this machine\n",
        "\n",
        "class State:\n",
        "    def __init__(self, jobs, machines):\n",
        "        self.machines = machines\n",
        "        self.remaining_jobs =  jobs\n",
        "        self.available_actions = self.get_available_actions()\n",
        "        self.all_families = self.get_all_families()\n",
        "\n",
        "        # Vector: jobs per family\n",
        "        self.jobs_per_family = self.create_jobs_per_family_vector()\n",
        "\n",
        "        # Matrix: machine busyness\n",
        "        self.machine_busyness_matrix = self.create_machine_busyness_matrix()\n",
        "\n",
        "        self.priority_processing_time = self.create_priority_processing_time_vector()\n",
        "\n",
        "    # available action is a list of (job, machine) pairs\n",
        "    def get_available_actions(self):\n",
        "        available_actions = []\n",
        "        for job in self.remaining_jobs:\n",
        "            for machine in self.machines:\n",
        "                if job.family in machine.families:\n",
        "                    available_actions.append((job, machine))\n",
        "        return available_actions\n",
        "\n",
        "    def print_available_actions(self):\n",
        "        for job, machine in self.available_actions:\n",
        "            print(f\"Job {job.id}   Machine {machine.id}\")\n",
        "\n",
        "    def get_all_families(self):\n",
        "        all_families = []\n",
        "        for machine in self.machines:\n",
        "            all_families += machine.families\n",
        "        return sorted(list(set(all_families)))\n",
        "\n",
        "    def count_jobs_per_family(self):\n",
        "        job_counts_dict = {family: 0 for family in self.all_families}\n",
        "\n",
        "        for job in self.remaining_jobs:\n",
        "            family = job.family\n",
        "\n",
        "            if family not in job_counts_dict:\n",
        "                job_counts_dict[family] = 0\n",
        "\n",
        "            job_counts_dict[family] += 1\n",
        "\n",
        "        return job_counts_dict\n",
        "\n",
        "    def create_jobs_per_family_vector(self):\n",
        "        job_counts_dict = self.count_jobs_per_family()\n",
        "        job_counts_list = [job_counts_dict[family] for family in job_counts_dict]\n",
        "        return np.array(job_counts_list)\n",
        "\n",
        "    def create_machine_busyness_matrix(self):\n",
        "        num_families = len(self.all_families)\n",
        "        num_machines = len(self.machines)\n",
        "\n",
        "        # Create a matrix based on the current busyness of each machine\n",
        "        machine_busyness_matrix = np.zeros((num_machines, num_families))\n",
        "\n",
        "        # Populate the matrix using the busyness dictionary from each machine\n",
        "        for machine_index, machine in enumerate(self.machines):\n",
        "            for family_index, family in enumerate(self.all_families):\n",
        "                if family in machine.busyness:\n",
        "                    machine_busyness_matrix[machine_index][family_index] = machine.busyness[family]\n",
        "\n",
        "        return machine_busyness_matrix\n",
        "\n",
        "    def create_priority_processing_time_vector(self):\n",
        "        num_machines = len(self.machines)\n",
        "        priority_processing_time = np.zeros(num_machines)\n",
        "\n",
        "        for i, machine in enumerate(self.machines):\n",
        "            for job in machine.schedule:\n",
        "                if job != 0:\n",
        "                    family = job.family\n",
        "                    priority_processing_time[i] += machine.processing_times[family] * job.priority\n",
        "                    priority_processing_time[i] += job.end_time * job.priority\n",
        "\n",
        "        return np.array(priority_processing_time)\n",
        "\n",
        "    def get_feature_vector(self):\n",
        "        return np.concatenate((self.jobs_per_family, self.machine_busyness_matrix.flatten(), self.priority_processing_time))\n",
        "\n",
        "    def display_state(self):\n",
        "        # Display remaining jobs\n",
        "        print('Remaining jobs:', [job.id for job in self.remaining_jobs])\n",
        "\n",
        "        # Display the machines and their allocated jobs\n",
        "        print('Machines:')\n",
        "        for machine in self.machines:\n",
        "            schedule_ids = []\n",
        "            for job in machine.schedule:\n",
        "                if job == 0:\n",
        "                    schedule_ids.append(0)\n",
        "                else:\n",
        "                    schedule_ids.append(job.id)\n",
        "\n",
        "            print(f'Machine {machine.id}: {schedule_ids}')\n",
        "\n",
        "        # Display the vector of jobs per family\n",
        "        print('Jobs per family:', self.jobs_per_family)\n",
        "\n",
        "        # Display the matrix for machine busyness\n",
        "        print('Machine business:', self.machine_busyness_matrix)\n",
        "\n",
        "        # Display the vector of priority processing times\n",
        "        print('Priority processing time:', self.priority_processing_time)\n",
        "\n",
        "class SchedulingEnvironment:\n",
        "    def __init__(self, jobs, machines):\n",
        "        self.machines = machines\n",
        "        self.jobs = jobs\n",
        "        self.current_state = State(self.jobs, self.machines)\n",
        "\n",
        "    def reset(self):\n",
        "        for machine in self.machines:\n",
        "            machine.schedule = []\n",
        "            machine.end_time = 0\n",
        "            machine.busyness = {family: 0 for family in machine.families}\n",
        "\n",
        "        for each_job in self.jobs:\n",
        "            each_job.allocation_status = 0\n",
        "            each_job.machine_allocated = 0\n",
        "            each_job.start_time = None\n",
        "            each_job.end_time = None\n",
        "\n",
        "\n",
        "        self.current_state = State(self.jobs, self.machines)\n",
        "        return self.current_state\n",
        "\n",
        "    def step(self, action):\n",
        "        \"\"\"\n",
        "        Parameters:  action (a tuple of (job, machine)))\n",
        "        Returns: next_state, reward, done\n",
        "        \"\"\"\n",
        "        done = False\n",
        "        job, machine = action\n",
        "\n",
        "        # Add a job to the machine schedule\n",
        "        machine.schedule.append(job)\n",
        "\n",
        "        # Update the job's allocation status\n",
        "        job.allocation_status = 1\n",
        "        job.machine_allocated = machine\n",
        "\n",
        "        # Calculate start and end times based on the recipes\n",
        "        job.start_time = machine.end_time\n",
        "        job.end_time = job.start_time + machine.processing_times[job.family]\n",
        "        machine.end_time += machine.processing_times[job.family]\n",
        "\n",
        "        # Update the machine's busyness\n",
        "        if job.family in machine.busyness:\n",
        "            machine.busyness[job.family] += 1\n",
        "        else:\n",
        "            machine.busyness[job.family] = 1\n",
        "\n",
        "\n",
        "        # Calculate the reward\n",
        "        reward = 0\n",
        "\n",
        "        # Update the remaining jobs\n",
        "        updated_remaining_jobs = [j for j in self.current_state.remaining_jobs if j.allocation_status == 0]\n",
        "\n",
        "        # Update the machines\n",
        "        updated_machines = list(self.machines)\n",
        "\n",
        "        next_state = State(updated_remaining_jobs, updated_machines)\n",
        "\n",
        "        if len(next_state.remaining_jobs)==0:\n",
        "            done = True\n",
        "\n",
        "        reward = (job.priority) * job.end_time # NEED TO CHANGE THIS TO THE ACTUAL REWARD\n",
        "        self.current_state = next_state\n",
        "\n",
        "        return next_state, reward, done\n"
      ],
      "metadata": {
        "id": "NRUgGykmluSj"
      },
      "execution_count": 3,
      "outputs": []
    },
    {
      "cell_type": "markdown",
      "source": [
        "#DQN Network"
      ],
      "metadata": {
        "id": "g_Qet16am85Q"
      }
    },
    {
      "cell_type": "code",
      "source": [
        "import torch\n",
        "import torch.nn as nn\n",
        "import torch.optim as optim\n",
        "import torch.nn.functional as F\n",
        "import random\n",
        "from collections import namedtuple\n",
        "\n",
        "# Define the DQN network\n",
        "# class DQN(nn.Module):\n",
        "#     def __init__(self, input_size, output_size):\n",
        "#         super(DQN, self).__init__()\n",
        "#         self.fc1 = nn.Linear(input_size, 32)\n",
        "#         self.fc2 = nn.Linear(32, 16)\n",
        "#         self.fc3 = nn.Linear(16, output_size)\n",
        "\n",
        "#     def forward(self, x):\n",
        "#         m = nn.LeakyReLU(0.1)\n",
        "#         #F.relu\n",
        "#         x = m(self.fc1(x))\n",
        "#         x = m(self.fc2(x))\n",
        "#         return self.fc3(x)\n",
        "\n",
        "class DQN(nn.Module):\n",
        "    def __init__(self, input_size, output_size):\n",
        "        super(DQN, self).__init__()\n",
        "        self.fc1 = nn.Linear(input_size, 256)\n",
        "        # self.fc2 = nn.Linear(1024, 512)\n",
        "        self.fc2 = nn.Linear(256, 128)\n",
        "        self.fc3 = nn.Linear(128, 64)\n",
        "        self.fc4 = nn.Linear(64, 32)\n",
        "        self.fc5 = nn.Linear(32, output_size)\n",
        "\n",
        "    def forward(self, x):\n",
        "        m = nn.LeakyReLU(0.1)\n",
        "        x = m(self.fc1(x))\n",
        "        x = m(self.fc2(x))\n",
        "        x = m(self.fc3(x))\n",
        "        x = m(self.fc4(x))\n",
        "        # x = m(self.fc5(x))\n",
        "        return self.fc5(x)\n"
      ],
      "metadata": {
        "id": "qgKU0MqUm8DL"
      },
      "execution_count": 71,
      "outputs": []
    },
    {
      "cell_type": "markdown",
      "source": [
        "#Replay Buffer"
      ],
      "metadata": {
        "id": "lspT63d7nYB4"
      }
    },
    {
      "cell_type": "code",
      "source": [
        "class ReplayBuffer:\n",
        "    def __init__(self, capacity):\n",
        "        self.capacity = capacity\n",
        "        self.buffer = []\n",
        "        self.position = 0\n",
        "\n",
        "    def push(self, *args):\n",
        "        if len(self.buffer) < self.capacity:\n",
        "            self.buffer.append(None)\n",
        "        self.buffer[self.position] = Transition(*args)\n",
        "        self.position = (self.position + 1) % self.capacity\n",
        "\n",
        "    def sample(self, batch_size):\n",
        "        return random.sample(self.buffer, batch_size)\n",
        "\n",
        "    def __len__(self):\n",
        "        return len(self.buffer)\n",
        "\n",
        "# Define the replay buffer\n",
        "Transition = namedtuple('Transition', ('state', 'action', 'reward', 'next_state', 'done'))"
      ],
      "metadata": {
        "id": "Pwf3utElnE1M"
      },
      "execution_count": 52,
      "outputs": []
    },
    {
      "cell_type": "markdown",
      "source": [
        "#DQN Agent"
      ],
      "metadata": {
        "id": "05fsf5JTnfG9"
      }
    },
    {
      "cell_type": "code",
      "source": [
        "# Define the DQN agent\n",
        "class DQNAgent:\n",
        "    def __init__(self, input_size, output_size, jobs, machines, batch_size=16, gamma=0.9, epsilon_start=0.9, epsilon_end=0.1, epsilon_decay=0.995):\n",
        "        self.input_size = input_size\n",
        "        self.output_size = output_size\n",
        "        self.batch_size = batch_size\n",
        "        self.gamma = gamma\n",
        "        self.epsilon = epsilon_start\n",
        "        self.epsilon_end = epsilon_end\n",
        "        self.epsilon_decay = epsilon_decay\n",
        "\n",
        "        self.device = torch.device(\"cuda\" if torch.cuda.is_available() else \"cpu\")\n",
        "\n",
        "        self.policy_net = DQN(input_size, output_size).to(self.device)\n",
        "        self.target_net = DQN(input_size, output_size).to(self.device)\n",
        "        self.target_net.load_state_dict(self.policy_net.state_dict())\n",
        "        self.target_net.eval()\n",
        "        # print(\"Policy Net state dict\", self.policy_net.state_dict())\n",
        "\n",
        "        self.optimizer = optim.Adam(self.policy_net.parameters())\n",
        "        self.memory = ReplayBuffer(100000)\n",
        "        #self.memory = PrioritizedReplayBuffer(10000)\n",
        "\n",
        "        self.steps_done = 0\n",
        "        #------------------------------------------------------------\n",
        "\n",
        "        self.jobs = jobs\n",
        "        self.machines = machines\n",
        "        self.num_jobs = len(jobs)\n",
        "        self.num_machines = len(machines)\n",
        "\n",
        "    def select_action(self, state):\n",
        "        sample = random.random()\n",
        "        self.epsilon = max(self.epsilon_end, self.epsilon_decay * self.epsilon)\n",
        "\n",
        "        if sample > self.epsilon:\n",
        "            with torch.no_grad():\n",
        "                state_format = torch.tensor(state.get_feature_vector(), dtype=torch.float32).unsqueeze(0).to(self.device)\n",
        "                q_values = self.policy_net(state_format)\n",
        "                q_array = q_values.numpy()[0]\n",
        "                best_action = None\n",
        "                best_action_value = 1000000000000\n",
        "                for action_index in range(len(q_array)):\n",
        "                    if q_array[action_index] <= best_action_value and self.find_action_from_index(action_index) in state.available_actions:\n",
        "                        best_action = self.find_action_from_index(action_index)\n",
        "                        best_action_value = q_array[action_index]\n",
        "                # action_index = q_values.argmin(dim=1).item()\n",
        "                action = best_action\n",
        "        else:\n",
        "            action = random.choice(state.available_actions)\n",
        "\n",
        "        return action\n",
        "\n",
        "    def find_action_from_index(self, index):\n",
        "        job_id = (index%self.num_jobs) +1\n",
        "        machine_id = (index//(self.num_jobs))+1\n",
        "        # print(self.num_jobs, machine_id)\n",
        "\n",
        "        return (self.jobs[job_id-1], self.machines[machine_id-1])\n",
        "\n",
        "    def find_index_from_action(self, action):\n",
        "        action_job_id = action[0].id\n",
        "        action_machine_id = action[1].id\n",
        "\n",
        "        start_index = 0\n",
        "        for mach in self.machines:\n",
        "            if action_machine_id == mach.id:\n",
        "                break\n",
        "            else:\n",
        "                start_index += self.num_jobs\n",
        "        index = start_index + (action_job_id-1)\n",
        "        return index\n",
        "\n",
        "    def test_select_action(self, state):\n",
        "      with torch.no_grad():\n",
        "          state_format = torch.tensor(state.get_feature_vector(), dtype=torch.float32).unsqueeze(0).to(self.device)\n",
        "          q_values = self.policy_net(state_format)\n",
        "          q_array = q_values.numpy()[0]\n",
        "          best_action = None\n",
        "          best_action_value = 1000000000000\n",
        "          for action_index in range(len(q_array)):\n",
        "              if q_array[action_index] <= best_action_value and self.find_action_from_index(action_index) in state.available_actions:\n",
        "                  best_action = self.find_action_from_index(action_index)\n",
        "                  best_action_value = q_array[action_index]\n",
        "          # action_index = q_values.argmin(dim=1).item()\n",
        "          action = best_action\n",
        "      return action\n",
        "\n",
        "\n",
        "    def store_transition(self, state, action, reward, next_state, done):\n",
        "        self.memory.push(state.get_feature_vector(), self.find_index_from_action(action), reward, next_state.get_feature_vector(), done)\n",
        "    #------------------------------------------------------------\n",
        "    def optimize_model(self):\n",
        "        if len(self.memory) < self.batch_size:\n",
        "            return\n",
        "\n",
        "        transitions = self.memory.sample(self.batch_size)\n",
        "        # print (\"Transistions: \", transitions)\n",
        "        batch = Transition(*zip(*transitions))\n",
        "        # print (\"batch: \", batch)\n",
        "\n",
        "        non_final_mask = torch.tensor(tuple(map(lambda s: not s, batch.done)), device=self.device, dtype=torch.bool)\n",
        "        non_final_next_states = torch.tensor([s for s, d in zip(batch.next_state, batch.done) if not d],\n",
        "                                             dtype=torch.float32).to(self.device)\n",
        "        # print(\"Non final next states \", non_final_next_states)\n",
        "        state_batch = torch.tensor(batch.state, dtype=torch.float32).to(self.device)\n",
        "        action_batch = torch.tensor(batch.action, dtype=torch.long).unsqueeze(1).to(self.device)\n",
        "        reward_batch = torch.tensor(batch.reward, dtype=torch.float32).unsqueeze(1).to(self.device)\n",
        "        # print(\"State Batch: \", state_batch)\n",
        "        # print(\"Action Batch: \", action_batch)\n",
        "        # print(\"Reward Batch: \", reward_batch)\n",
        "        state_action_values = self.policy_net(state_batch).gather(1, action_batch)\n",
        "        # print (\"Batch Size: \", self.batch_size)\n",
        "        # print (\"State action values: \", state_action_values)\n",
        "\n",
        "        next_state_values = torch.zeros(self.batch_size, device=self.device)\n",
        "        next_state_values[non_final_mask] = self.target_net(non_final_next_states).max(1)[0].detach()\n",
        "\n",
        "        expected_state_action_values = (next_state_values * self.gamma) + reward_batch\n",
        "\n",
        "        loss = F.smooth_l1_loss(state_action_values, expected_state_action_values)\n",
        "\n",
        "        self.optimizer.zero_grad()\n",
        "        loss.backward()\n",
        "        self.optimizer.step()\n",
        "        return loss.item()\n",
        "    #------------------------------------------------------------\n",
        "    def update_target_network(self):\n",
        "        self.target_net.load_state_dict(self.policy_net.state_dict())\n",
        "\n",
        "    def save_model(self, path):\n",
        "        torch.save(self.policy_net.state_dict(), path)\n",
        "\n",
        "    def load_model(self, path):\n",
        "        self.policy_net.load_state_dict(torch.load(path))\n"
      ],
      "metadata": {
        "id": "2yzqKPqAnXTp"
      },
      "execution_count": 72,
      "outputs": []
    },
    {
      "cell_type": "markdown",
      "source": [
        "#Plotting Loss"
      ],
      "metadata": {
        "id": "OcMufRMf1WJV"
      }
    },
    {
      "cell_type": "code",
      "source": [
        "import matplotlib.pyplot as plt\n",
        "from IPython import display\n",
        "\n",
        "def visualize_loss(loss_values):\n",
        "  display.clear_output(wait=True)\n",
        "  display.display(plt.gcf())\n",
        "  plt.clf()\n",
        "  plt.title('Training...')\n",
        "  plt.xlabel('Number of Episodes')\n",
        "  plt.ylabel('Loss Value')\n",
        "  plt.plot(range(len(loss_values)), loss_values)\n",
        "  plt.ylim(ymin=0)\n",
        "  plt.show(block=False)"
      ],
      "metadata": {
        "id": "7padbPy31Yl6"
      },
      "execution_count": 54,
      "outputs": []
    },
    {
      "cell_type": "markdown",
      "source": [
        "#Instantiating the Problem and environment"
      ],
      "metadata": {
        "id": "jrvxPtxA0OG4"
      }
    },
    {
      "cell_type": "code",
      "source": [
        "# Define the problem: 10 jobs, 3 machines, 4 recipies\n",
        "\n",
        "# index, priority, family\n",
        "job1 = Job(1, 10, \"R1\")\n",
        "job2 = Job(2, 8, \"R3\")\n",
        "job3 = Job(3, 12, \"R3\")\n",
        "job4 = Job(4, 6, \"R4\")\n",
        "job5 = Job(5, 10, \"R2\")\n",
        "job6 = Job(6, 12, \"R1\")\n",
        "job7 = Job(7, 12, \"R3\")\n",
        "job8 = Job(8, 6, \"R4\")\n",
        "job9 = Job(9, 8, \"R2\")\n",
        "job10 = Job(10, 10, \"R1\")\n",
        "job11 = Job(11, 12, \"R2\")\n",
        "job12 = Job(12, 10, \"R1\")\n",
        "job13 = Job(13, 8, \"R3\")\n",
        "job14 = Job(14, 14, \"R3\")\n",
        "job15 = Job(15, 12, \"R1\")\n",
        "job16 = Job(16, 8, \"R2\")\n",
        "job17 = Job(17, 14, \"R1\")\n",
        "job18 = Job(18, 10, \"R4\")\n",
        "job19 = Job(19, 12, \"R1\")\n",
        "job20 = Job(20, 8, \"R3\")\n",
        "\n",
        "# A list of job objects\n",
        "# job_list = [job1, job2, job3, job4, job5, job6, job7, job8, job9, job10]\n",
        "job_list = [job1, job2, job3, job4, job5, job6, job7, job8, job9, job10, job11, job12, job13, job14, job15]\n",
        "            #, job16, job17, job18, job19, job20]\n",
        "\n",
        "# Define some machines\n",
        "machine1 = Machine(1, {\"R1\":14,\"R4\":50})\n",
        "machine2 = Machine(2, {\"R2\":10,\"R3\":20})\n",
        "machine3 = Machine(3, {\"R1\": 15,\"R2\":30,\"R3\":10})\n",
        "# machine4 = Machine(4, {\"R1\": 25,\"R2\":10,\"R3\":20,\"R4\":20})\n",
        "\n",
        "# A list of machine objects\n",
        "machine_list = [machine1, machine2, machine3]\n",
        "# machine_list = [machine1, machine2, machine3, machine4]"
      ],
      "metadata": {
        "id": "fL8ZNy300MIE"
      },
      "execution_count": 73,
      "outputs": []
    },
    {
      "cell_type": "markdown",
      "source": [
        "#Greedy Agent"
      ],
      "metadata": {
        "id": "58RjW7hF0vZI"
      }
    },
    {
      "cell_type": "code",
      "source": [
        "class greedy_agent:\n",
        "    def __init__(self):\n",
        "        pass\n",
        "\n",
        "    def select_action(self, state):\n",
        "        best_cost = 1000000\n",
        "        greedy_action = None\n",
        "        # state.print_available_actions()\n",
        "        for job, machine in state.available_actions:\n",
        "            # print(job.id, job.due_date, machine.id, machine.end_time+job.processing_times[machine.id])\n",
        "            if (job.priority)*(machine.end_time+machine.processing_times[job.family]) <= best_cost:\n",
        "                greedy_action =(job, machine)\n",
        "                best_cost = (job.priority)*(machine.end_time+machine.processing_times[job.family])\n",
        "        # print(\"Greedy Action: \", greedy_action[0].id, greedy_action[1].id)\n",
        "        return greedy_action"
      ],
      "metadata": {
        "id": "oB3bQyK80m5y"
      },
      "execution_count": 74,
      "outputs": []
    },
    {
      "cell_type": "code",
      "source": [
        "env = SchedulingEnvironment(job_list, machine_list)\n",
        "agent = greedy_agent()\n",
        "obs = env.reset()\n",
        "total_reward = 0\n",
        "current_state = env.reset()\n",
        "done = False\n",
        "t=0\n",
        "while not done:\n",
        "    action = agent.select_action(obs)\n",
        "    next_state, reward, done = env.step(action)\n",
        "    env.current_state =next_state\n",
        "    total_reward += reward\n",
        "    obs = next_state\n",
        "    # obs.display()\n",
        "    if done:\n",
        "        obs.display_state()\n",
        "        print(\"Total Reward: \", total_reward)\n",
        "        break"
      ],
      "metadata": {
        "colab": {
          "base_uri": "https://localhost:8080/"
        },
        "id": "mLlepTHT0xbv",
        "outputId": "989c03d3-3aa2-40eb-b045-e6a35d62aea8"
      },
      "execution_count": 75,
      "outputs": [
        {
          "output_type": "stream",
          "name": "stdout",
          "text": [
            "Remaining jobs: []\n",
            "Machines:\n",
            "Machine 1: [12, 10, 8, 4]\n",
            "Machine 2: [9, 5, 11, 3, 14]\n",
            "Machine 3: [13, 2, 1, 7, 15, 6]\n",
            "Jobs per family: [0 0 0 0]\n",
            "Machine business: [[2. 0. 0. 2.]\n",
            " [0. 3. 2. 0.]\n",
            " [3. 0. 3. 0.]]\n",
            "Priority processing time: [2536. 3040. 3540.]\n",
            "Total Reward:  6626\n"
          ]
        }
      ]
    },
    {
      "cell_type": "markdown",
      "source": [
        "# DQN Training"
      ],
      "metadata": {
        "id": "YkY83djw02C_"
      }
    },
    {
      "cell_type": "code",
      "source": [
        "env = SchedulingEnvironment(job_list, machine_list)\n",
        "input_size = 4 + (len(machine_list)*4) + len(machine_list)\n",
        "output_size = len(job_list)*len(machine_list)\n",
        "agent = DQNAgent(input_size, output_size, job_list, machine_list)\n",
        "\n",
        "# Training loop\n",
        "num_episodes = 6000\n",
        "loss_list = []\n",
        "for episode in range(num_episodes):\n",
        "    state = env.reset()\n",
        "    total_reward = 0\n",
        "\n",
        "    while True:\n",
        "        action = agent.select_action(state)\n",
        "        next_state, reward, done = env.step(action)\n",
        "\n",
        "        env.current_state = next_state\n",
        "        agent.store_transition(state, action, reward, next_state, done)\n",
        "        loss = agent.optimize_model()  # Get the model loss value\n",
        "\n",
        "        total_reward = reward\n",
        "        state = next_state\n",
        "        if done:\n",
        "            agent.update_target_network()\n",
        "            break\n",
        "    loss_list.append(loss)\n",
        "    if loss != None and episode % 50 == 0 : #and episode >500\n",
        "        visualize_loss(loss_list)\n",
        "        print(f\"Episode {episode + 1}: Model loss = {loss}\")\n",
        "\n",
        "\n",
        "# Save the trained model\n",
        "agent.save_model(\"sched_dqn_model.pth\")\n"
      ],
      "metadata": {
        "colab": {
          "base_uri": "https://localhost:8080/",
          "height": 507
        },
        "id": "S1d2a8YC0zGT",
        "outputId": "c6902c13-d32a-421f-d252-00faf9015bce"
      },
      "execution_count": 80,
      "outputs": [
        {
          "output_type": "display_data",
          "data": {
            "text/plain": [
              "<Figure size 640x480 with 0 Axes>"
            ]
          },
          "metadata": {}
        },
        {
          "output_type": "display_data",
          "data": {
            "text/plain": [
              "<Figure size 640x480 with 1 Axes>"
            ],
            "image/png": "[encoded data removed]"
          },
          "metadata": {}
        },
        {
          "output_type": "stream",
          "name": "stdout",
          "text": [
            "Episode 5951: Model loss = 411.1126403808594\n"
          ]
        }
      ]
    },
    {
      "cell_type": "code",
      "source": [
        "#Loading the trained model\n",
        "agent.load_model(\"sched_dqn_model.pth\")\n",
        "\n",
        "\n",
        "def get_best_schedule(agent, env):\n",
        "  state = env.reset()\n",
        "  done = False\n",
        "  total_reward  = 0\n",
        "\n",
        "  while not done:\n",
        "    action = agent.test_select_action(state)\n",
        "    next_state, reward, done = env.step(action)\n",
        "    total_reward += reward\n",
        "    state = next_state\n",
        "  print(next_state.display_state())\n",
        "\n",
        "  return total_reward\n",
        "\n",
        "tot_reward = get_best_schedule(agent, env)\n",
        "print(\"Total Reward: {}\".format(tot_reward))\n",
        "\n"
      ],
      "metadata": {
        "colab": {
          "base_uri": "https://localhost:8080/"
        },
        "id": "ijCLiEMz3UaW",
        "outputId": "dcfdfce7-7d15-467b-eb50-33723214eb5d"
      },
      "execution_count": 81,
      "outputs": [
        {
          "output_type": "stream",
          "name": "stdout",
          "text": [
            "Remaining jobs: []\n",
            "Machines:\n",
            "Machine 1: [6, 10, 8, 4]\n",
            "Machine 2: [9, 11, 3, 5, 14]\n",
            "Machine 3: [13, 12, 2, 7, 1, 15]\n",
            "Jobs per family: [0 0 0 0]\n",
            "Machine business: [[2. 0. 0. 2.]\n",
            " [0. 3. 2. 0.]\n",
            " [3. 0. 3. 0.]]\n",
            "Priority processing time: [2592. 3100. 3410.]\n",
            "None\n",
            "Total Reward: 6614\n"
          ]
        }
      ]
    },
    {
      "cell_type": "code",
      "source": [],
      "metadata": {
        "id": "5Ykb_7Hl5Dy8"
      },
      "execution_count": null,
      "outputs": []
    }
  ]
}